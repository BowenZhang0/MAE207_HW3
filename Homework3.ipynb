{
 "cells": [
  {
   "cell_type": "code",
   "execution_count": 2,
   "metadata": {},
   "outputs": [],
   "source": [
    "import robot\n",
    "import time\n"
   ]
  },
  {
   "cell_type": "code",
   "execution_count": 3,
   "metadata": {},
   "outputs": [
    {
     "name": "stdout",
     "output_type": "stream",
     "text": [
      "Connected!\n"
     ]
    }
   ],
   "source": [
    "leg = robot.Leg()"
   ]
  },
  {
   "cell_type": "code",
   "execution_count": 4,
   "metadata": {},
   "outputs": [],
   "source": [
    "#move encoder to 0 pos, 90 degrees\n",
    "leg.move_home()\n",
    "Home=leg.set_home()"
   ]
  },
  {
   "cell_type": "code",
   "execution_count": 17,
   "metadata": {},
   "outputs": [],
   "source": [
    "#TEST      90 degree from horizon is the initial pos\n",
    "t1=time.monotonic()\n",
    "t3=0\n",
    "while t3<10:\n",
    "    t2=time.monotonic()\n",
    "    \n",
    "    t3=t2-t1\n",
    "    i=2\n",
    "    leg.move_home()\n",
    "    time.sleep(0.5)\n",
    "    leg.set_joint_pos(5*3.14/6+i*3.14/18,1*3.14/6-i*3.14/18)\n",
    "    time.sleep(1.2)\n",
    "    i+=1\n",
    "leg.move_home()\n"
   ]
  },
  {
   "cell_type": "code",
   "execution_count": 11,
   "metadata": {},
   "outputs": [],
   "source": [
    "#successful jumping\n",
    "leg.move_home()\n",
    "time.sleep(0.8)\n",
    "leg.set_joint_pos(4*3.14/6,2*3.14/6)\n",
    "time.sleep(0.5)\n",
    "leg.move_home()\n",
    "time.sleep(0.8)\n",
    "leg.set_joint_pos(5*3.14/6,3.14/6)\n",
    "time.sleep(0.4)\n",
    "leg.move_home()\n",
    "time.sleep(0.8)\n",
    "leg.set_joint_pos(5*3.14/6+3.14/18,3.14/6-3.14/18)\n",
    "time.sleep(0.4)\n",
    "leg.move_home()\n",
    "time.sleep(0.8)\n",
    "leg.set_joint_pos(5*3.14/6+3.14/18,3.14/6-3.14/18)\n",
    "time.sleep(0.4)\n",
    "leg.move_home()\n",
    "time.sleep(0.8)\n",
    "leg.set_joint_pos(5*3.14/6+3.14/12,3.14/6-3.14/12)\n",
    "time.sleep(0.4)\n",
    "leg.move_home()\n",
    "time.sleep(0.8)\n",
    "leg.set_joint_pos(5*3.14/6+3.14/12,3.14/6-3.14/12)\n",
    "time.sleep(0.4)\n",
    "leg.move_home()\n",
    "time.sleep(0.8)"
   ]
  },
  {
   "cell_type": "code",
   "execution_count": null,
   "metadata": {},
   "outputs": [],
   "source": [
    "#successful jumping\n",
    "leg.move_home()\n",
    "time.sleep(1)\n",
    "leg.set_joint_pos(4*3.14/6,2*3.14/6)\n",
    "time.sleep(0.5)\n",
    "leg.move_home()\n",
    "time.sleep(1)\n",
    "leg.set_joint_pos(5*3.14/6,3.14/6)\n",
    "time.sleep(0.5)\n",
    "leg.move_home()\n",
    "time.sleep(1)\n",
    "leg.set_joint_pos(5*3.14/6+3.14/18,3.14/6-3.14/18)\n",
    "time.sleep(0.5)\n",
    "leg.move_home()\n",
    "time.sleep(1)\n",
    "leg.set_joint_pos(5*3.14/6+3.14/18,3.14/6-3.14/18)\n",
    "time.sleep(0.5)\n",
    "leg.move_home()"
   ]
  }
 ],
 "metadata": {
  "kernelspec": {
   "display_name": "Python 3",
   "language": "python",
   "name": "python3"
  },
  "language_info": {
   "codemirror_mode": {
    "name": "ipython",
    "version": 3
   },
   "file_extension": ".py",
   "mimetype": "text/x-python",
   "name": "python",
   "nbconvert_exporter": "python",
   "pygments_lexer": "ipython3",
   "version": "3.6.4"
  }
 },
 "nbformat": 4,
 "nbformat_minor": 2
}
